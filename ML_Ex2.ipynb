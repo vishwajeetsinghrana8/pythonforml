{
 "cells": [
  {
   "cell_type": "markdown",
   "id": "fa6e024b-e3e9-4878-9967-0166ffaeb1c3",
   "metadata": {},
   "source": [
    "# Numpy"
   ]
  },
  {
   "cell_type": "code",
   "execution_count": 2,
   "id": "b9480c9a-536c-4019-a740-6fb06f0ea1ec",
   "metadata": {},
   "outputs": [],
   "source": [
    "import numpy as np"
   ]
  },
  {
   "cell_type": "code",
   "execution_count": 3,
   "id": "9aee0785-5e27-4c3b-8e75-04afe804583f",
   "metadata": {},
   "outputs": [
    {
     "data": {
      "text/plain": [
       "'1.22.2'"
      ]
     },
     "execution_count": 3,
     "metadata": {},
     "output_type": "execute_result"
    }
   ],
   "source": [
    "np.__version__"
   ]
  },
  {
   "cell_type": "code",
   "execution_count": 4,
   "id": "ae9802ec-2b86-49c5-8744-05d74b092f59",
   "metadata": {},
   "outputs": [],
   "source": [
    "l1 = [10,20,30]"
   ]
  },
  {
   "cell_type": "code",
   "execution_count": 5,
   "id": "3b3af5b7-e9b0-4fa3-80dd-b8cb2cf4d856",
   "metadata": {},
   "outputs": [
    {
     "data": {
      "text/plain": [
       "list"
      ]
     },
     "execution_count": 5,
     "metadata": {},
     "output_type": "execute_result"
    }
   ],
   "source": [
    "type(l1)"
   ]
  },
  {
   "cell_type": "code",
   "execution_count": 7,
   "id": "1c05b779-df36-4c9a-9cdc-03b40d32c23a",
   "metadata": {},
   "outputs": [],
   "source": [
    "a1 = np.array([10,20,30])"
   ]
  },
  {
   "cell_type": "code",
   "execution_count": 8,
   "id": "51a325f9-9e03-46e5-9d99-e3fd6005997c",
   "metadata": {},
   "outputs": [
    {
     "data": {
      "text/plain": [
       "numpy.ndarray"
      ]
     },
     "execution_count": 8,
     "metadata": {},
     "output_type": "execute_result"
    }
   ],
   "source": [
    "type(a1)"
   ]
  },
  {
   "cell_type": "code",
   "execution_count": 9,
   "id": "8087c583-2e19-4238-a71a-89662664a2dd",
   "metadata": {},
   "outputs": [],
   "source": [
    "a2 = [10,20,30]"
   ]
  },
  {
   "cell_type": "code",
   "execution_count": 10,
   "id": "90d37b69-4ba1-492c-ac34-65c6f076e740",
   "metadata": {},
   "outputs": [],
   "source": [
    "a1 = np.array(a2)"
   ]
  },
  {
   "cell_type": "code",
   "execution_count": 11,
   "id": "b82a67ce-6dc5-4e47-b300-4eccb167ade3",
   "metadata": {},
   "outputs": [
    {
     "data": {
      "text/plain": [
       "array([10, 20, 30])"
      ]
     },
     "execution_count": 11,
     "metadata": {},
     "output_type": "execute_result"
    }
   ],
   "source": [
    "a1"
   ]
  },
  {
   "cell_type": "code",
   "execution_count": 12,
   "id": "9cea811d-b4ea-4642-b28e-f096a83bc5dd",
   "metadata": {},
   "outputs": [],
   "source": [
    "arr1 = [[10,20,30],[40,50,60],[70,80,90]]"
   ]
  },
  {
   "cell_type": "code",
   "execution_count": 13,
   "id": "72a42cf7-93d4-4015-ae40-85df67e053a2",
   "metadata": {},
   "outputs": [
    {
     "data": {
      "text/plain": [
       "[[10, 20, 30], [40, 50, 60], [70, 80, 90]]"
      ]
     },
     "execution_count": 13,
     "metadata": {},
     "output_type": "execute_result"
    }
   ],
   "source": [
    "arr1"
   ]
  },
  {
   "cell_type": "code",
   "execution_count": 14,
   "id": "d70b206f-dbe6-46ed-b2de-8430e0f5ded3",
   "metadata": {},
   "outputs": [
    {
     "data": {
      "text/plain": [
       "array([[10, 20, 30],\n",
       "       [40, 50, 60],\n",
       "       [70, 80, 90]])"
      ]
     },
     "execution_count": 14,
     "metadata": {},
     "output_type": "execute_result"
    }
   ],
   "source": [
    "np.array(arr1)"
   ]
  },
  {
   "cell_type": "code",
   "execution_count": 15,
   "id": "a3fe4c2a-6444-4f7e-a051-13294929fc1b",
   "metadata": {},
   "outputs": [
    {
     "data": {
      "text/plain": [
       "[1, 2, 3, 4, 5, 6, 7, 8, 9, 10]"
      ]
     },
     "execution_count": 15,
     "metadata": {},
     "output_type": "execute_result"
    }
   ],
   "source": [
    "list(range(1,11))"
   ]
  },
  {
   "cell_type": "code",
   "execution_count": 16,
   "id": "20822726-8768-4510-b5e2-54862d7cee05",
   "metadata": {},
   "outputs": [
    {
     "data": {
      "text/plain": [
       "array([0, 1, 2, 3, 4, 5, 6, 7, 8, 9])"
      ]
     },
     "execution_count": 16,
     "metadata": {},
     "output_type": "execute_result"
    }
   ],
   "source": [
    "np.arange(0,10)"
   ]
  },
  {
   "cell_type": "code",
   "execution_count": 17,
   "id": "e8edc8fc-dd67-405a-99c7-aafd4a6fad75",
   "metadata": {},
   "outputs": [
    {
     "data": {
      "text/plain": [
       "array([ 0,  2,  4,  6,  8, 10, 12, 14, 16, 18, 20, 22, 24, 26, 28, 30, 32,\n",
       "       34, 36, 38, 40, 42, 44, 46, 48])"
      ]
     },
     "execution_count": 17,
     "metadata": {},
     "output_type": "execute_result"
    }
   ],
   "source": [
    "np.arange(0,50,2)"
   ]
  },
  {
   "cell_type": "code",
   "execution_count": 18,
   "id": "668dce06-e617-4136-8067-574d97de4401",
   "metadata": {},
   "outputs": [
    {
     "data": {
      "text/plain": [
       "array([0., 0., 0., 0.])"
      ]
     },
     "execution_count": 18,
     "metadata": {},
     "output_type": "execute_result"
    }
   ],
   "source": [
    "np.zeros(4)"
   ]
  },
  {
   "cell_type": "code",
   "execution_count": 19,
   "id": "dc7a728c-3a5a-4b30-8366-5a58b6d02279",
   "metadata": {},
   "outputs": [
    {
     "data": {
      "text/plain": [
       "array([[0., 0., 0., 0., 0.],\n",
       "       [0., 0., 0., 0., 0.],\n",
       "       [0., 0., 0., 0., 0.],\n",
       "       [0., 0., 0., 0., 0.],\n",
       "       [0., 0., 0., 0., 0.]])"
      ]
     },
     "execution_count": 19,
     "metadata": {},
     "output_type": "execute_result"
    }
   ],
   "source": [
    "np.zeros((5,5))"
   ]
  },
  {
   "cell_type": "code",
   "execution_count": 20,
   "id": "7b1c462f-d5bd-4f02-aed4-e68dc9b84177",
   "metadata": {},
   "outputs": [
    {
     "data": {
      "text/plain": [
       "array([1., 1., 1., 1.])"
      ]
     },
     "execution_count": 20,
     "metadata": {},
     "output_type": "execute_result"
    }
   ],
   "source": [
    "np.ones(4)"
   ]
  },
  {
   "cell_type": "code",
   "execution_count": 21,
   "id": "ff3040d1-8c17-40a4-8390-0a6673e800bc",
   "metadata": {},
   "outputs": [
    {
     "data": {
      "text/plain": [
       "array([[1., 1., 1., 1.],\n",
       "       [1., 1., 1., 1.],\n",
       "       [1., 1., 1., 1.],\n",
       "       [1., 1., 1., 1.]])"
      ]
     },
     "execution_count": 21,
     "metadata": {},
     "output_type": "execute_result"
    }
   ],
   "source": [
    "np.ones((4,4))"
   ]
  },
  {
   "cell_type": "markdown",
   "id": "07c81794-b984-41b8-9af9-a78fc4ca51aa",
   "metadata": {},
   "source": [
    "## Linspace"
   ]
  },
  {
   "cell_type": "code",
   "execution_count": 23,
   "id": "ed0d7402-f120-4889-b348-fe2d19c1b558",
   "metadata": {},
   "outputs": [
    {
     "data": {
      "text/plain": [
       "array([ 0. ,  2.5,  5. ,  7.5, 10. ])"
      ]
     },
     "execution_count": 23,
     "metadata": {},
     "output_type": "execute_result"
    }
   ],
   "source": [
    "np.linspace(0,10,5)"
   ]
  },
  {
   "cell_type": "code",
   "execution_count": 24,
   "id": "1c74adf2-4fcf-46e7-9417-465b3c97e361",
   "metadata": {},
   "outputs": [
    {
     "data": {
      "text/plain": [
       "array([0.        , 0.26315789, 0.52631579, 0.78947368, 1.05263158,\n",
       "       1.31578947, 1.57894737, 1.84210526, 2.10526316, 2.36842105,\n",
       "       2.63157895, 2.89473684, 3.15789474, 3.42105263, 3.68421053,\n",
       "       3.94736842, 4.21052632, 4.47368421, 4.73684211, 5.        ])"
      ]
     },
     "execution_count": 24,
     "metadata": {},
     "output_type": "execute_result"
    }
   ],
   "source": [
    "np.linspace(0,5,20)"
   ]
  },
  {
   "cell_type": "code",
   "execution_count": 25,
   "id": "5af2226d-c879-4448-9126-7f8ed56a9763",
   "metadata": {},
   "outputs": [
    {
     "data": {
      "text/plain": [
       "array([[1., 0., 0., 0.],\n",
       "       [0., 1., 0., 0.],\n",
       "       [0., 0., 1., 0.],\n",
       "       [0., 0., 0., 1.]])"
      ]
     },
     "execution_count": 25,
     "metadata": {},
     "output_type": "execute_result"
    }
   ],
   "source": [
    "np.eye(4)"
   ]
  },
  {
   "cell_type": "markdown",
   "id": "7d2e91ff-67ac-42e3-8980-ca6d574ef464",
   "metadata": {},
   "source": [
    "# Numpy PART-2"
   ]
  },
  {
   "cell_type": "markdown",
   "id": "7a6c0dac-320c-4f24-92d8-a5f1f25610ba",
   "metadata": {},
   "source": [
    "## Random"
   ]
  },
  {
   "cell_type": "code",
   "execution_count": 26,
   "id": "2145073e-7677-4ca1-8ad7-1812558de152",
   "metadata": {},
   "outputs": [],
   "source": [
    "import numpy as np"
   ]
  },
  {
   "cell_type": "code",
   "execution_count": 33,
   "id": "21cd0ccb-d165-4621-bac7-1eb681c2737a",
   "metadata": {},
   "outputs": [
    {
     "data": {
      "text/plain": [
       "array([0.55428859, 0.35503633, 0.89048536, 0.2122195 , 0.03113368])"
      ]
     },
     "execution_count": 33,
     "metadata": {},
     "output_type": "execute_result"
    }
   ],
   "source": [
    "np.random.rand(5)"
   ]
  },
  {
   "cell_type": "code",
   "execution_count": 42,
   "id": "db936a81-786a-43f6-8714-a02c8d68efd8",
   "metadata": {},
   "outputs": [
    {
     "data": {
      "text/plain": [
       "array([[0.48764428, 0.53142322, 0.75962221, 0.61546528, 0.95777987],\n",
       "       [0.51257396, 0.81069764, 0.86364072, 0.58389313, 0.5803088 ],\n",
       "       [0.13359112, 0.31687709, 0.45954168, 0.31661786, 0.18783262],\n",
       "       [0.83244361, 0.49696036, 0.87464081, 0.65181594, 0.40264055],\n",
       "       [0.3231613 , 0.24565383, 0.66627945, 0.7275719 , 0.88543535]])"
      ]
     },
     "execution_count": 42,
     "metadata": {},
     "output_type": "execute_result"
    }
   ],
   "source": [
    "np.random.rand(5,5)"
   ]
  },
  {
   "cell_type": "code",
   "execution_count": 50,
   "id": "716ced6b-0ab1-42a2-93dc-945a5a625e02",
   "metadata": {},
   "outputs": [
    {
     "data": {
      "text/plain": [
       "array([ 1.86250547, -0.07928035,  2.04792857])"
      ]
     },
     "execution_count": 50,
     "metadata": {},
     "output_type": "execute_result"
    }
   ],
   "source": [
    "np.random.randn(3)"
   ]
  },
  {
   "cell_type": "code",
   "execution_count": 51,
   "id": "665812de-586e-4a41-9d7e-9a80708205ea",
   "metadata": {},
   "outputs": [
    {
     "data": {
      "text/plain": [
       "array([[-2.1406338 ,  1.1466659 , -0.37542857, -0.47732437, -1.48166701],\n",
       "       [ 2.30637124,  1.01073758, -0.35710286,  0.56808957, -0.77140729],\n",
       "       [-0.84979317,  0.32181568,  0.5209744 , -0.55168114,  0.5342262 ],\n",
       "       [ 0.35328651, -0.75572807, -1.96173835, -0.84114328,  1.058055  ],\n",
       "       [ 0.45876379, -1.09383929, -0.87142995, -0.01747565, -1.24021156]])"
      ]
     },
     "execution_count": 51,
     "metadata": {},
     "output_type": "execute_result"
    }
   ],
   "source": [
    "np.random.randn(5,5)"
   ]
  },
  {
   "cell_type": "code",
   "execution_count": 64,
   "id": "34c7de39-9c51-47e8-87e4-ee44a93acdff",
   "metadata": {},
   "outputs": [
    {
     "data": {
      "text/plain": [
       "14"
      ]
     },
     "execution_count": 64,
     "metadata": {},
     "output_type": "execute_result"
    }
   ],
   "source": [
    "np.random.randint(1,100)"
   ]
  },
  {
   "cell_type": "code",
   "execution_count": 69,
   "id": "5309726a-8108-41e8-8374-6eaf8070a72f",
   "metadata": {},
   "outputs": [
    {
     "data": {
      "text/plain": [
       "array([47, 27, 88, 42, 39, 39, 33, 54, 26, 31, 51, 88, 59,  4, 72])"
      ]
     },
     "execution_count": 69,
     "metadata": {},
     "output_type": "execute_result"
    }
   ],
   "source": [
    "np.random.randint(1,100,15)"
   ]
  },
  {
   "cell_type": "code",
   "execution_count": 71,
   "id": "0972b6f9-66e4-42fa-9890-567db7f2859a",
   "metadata": {},
   "outputs": [
    {
     "data": {
      "text/plain": [
       "array([0.37454012, 0.95071431, 0.73199394, 0.59865848])"
      ]
     },
     "execution_count": 71,
     "metadata": {},
     "output_type": "execute_result"
    }
   ],
   "source": [
    "np.random.seed(42)\n",
    "np.random.rand(4)"
   ]
  },
  {
   "cell_type": "code",
   "execution_count": 72,
   "id": "8b6bedee-f8f6-43df-bd5e-5f314c2b1b08",
   "metadata": {},
   "outputs": [
    {
     "data": {
      "text/plain": [
       "array([0.37454012, 0.95071431, 0.73199394, 0.59865848])"
      ]
     },
     "execution_count": 72,
     "metadata": {},
     "output_type": "execute_result"
    }
   ],
   "source": [
    "np.random.seed(42)\n",
    "np.random.rand(4)"
   ]
  },
  {
   "cell_type": "code",
   "execution_count": 75,
   "id": "d335198e-ff90-4656-92e6-da4652a92126",
   "metadata": {},
   "outputs": [
    {
     "data": {
      "text/plain": [
       "array([96, 12, 82, 71, 64, 88, 76, 10, 78, 41])"
      ]
     },
     "execution_count": 75,
     "metadata": {},
     "output_type": "execute_result"
    }
   ],
   "source": [
    "np.random.seed(101)\n",
    "np.random.randint(1,100,10)"
   ]
  },
  {
   "cell_type": "code",
   "execution_count": 76,
   "id": "6e9d1b0f-e7ac-462a-9d14-868eb78e5138",
   "metadata": {},
   "outputs": [
    {
     "data": {
      "text/plain": [
       "array([96, 12, 82, 71, 64, 88, 76, 10, 78, 41])"
      ]
     },
     "execution_count": 76,
     "metadata": {},
     "output_type": "execute_result"
    }
   ],
   "source": [
    "np.random.seed(101)\n",
    "np.random.randint(1,100,10)"
   ]
  },
  {
   "cell_type": "code",
   "execution_count": null,
   "id": "aa184f4e-a4a5-41c3-8907-bc726514af65",
   "metadata": {},
   "outputs": [],
   "source": []
  }
 ],
 "metadata": {
  "kernelspec": {
   "display_name": "Python 3 (ipykernel)",
   "language": "python",
   "name": "python3"
  },
  "language_info": {
   "codemirror_mode": {
    "name": "ipython",
    "version": 3
   },
   "file_extension": ".py",
   "mimetype": "text/x-python",
   "name": "python",
   "nbconvert_exporter": "python",
   "pygments_lexer": "ipython3",
   "version": "3.9.9"
  }
 },
 "nbformat": 4,
 "nbformat_minor": 5
}
