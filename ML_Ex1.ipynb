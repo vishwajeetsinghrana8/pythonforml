{
 "cells": [
  {
   "cell_type": "code",
   "execution_count": 1,
   "id": "42519a9c-92d3-4aab-b212-8b5b948b42c1",
   "metadata": {},
   "outputs": [
    {
     "name": "stdout",
     "output_type": "stream",
     "text": [
      "Knowledge Shelf\n"
     ]
    }
   ],
   "source": [
    "print(\"Knowledge Shelf\")"
   ]
  },
  {
   "cell_type": "markdown",
   "id": "f51f1ee0-e610-4f85-9309-5cc825f3581e",
   "metadata": {},
   "source": [
    "## Python Refresher Part-1\n",
    "### Data Types"
   ]
  },
  {
   "cell_type": "code",
   "execution_count": 1,
   "id": "1543d8e5-24b1-4d7f-8b2f-f35c962f55e0",
   "metadata": {},
   "outputs": [
    {
     "data": {
      "text/plain": [
       "12"
      ]
     },
     "execution_count": 1,
     "metadata": {},
     "output_type": "execute_result"
    }
   ],
   "source": [
    "12"
   ]
  },
  {
   "cell_type": "code",
   "execution_count": 2,
   "id": "545def10-4ab0-4a06-8c3a-c596b1ac2b30",
   "metadata": {},
   "outputs": [
    {
     "data": {
      "text/plain": [
       "int"
      ]
     },
     "execution_count": 2,
     "metadata": {},
     "output_type": "execute_result"
    }
   ],
   "source": [
    "type(12)"
   ]
  },
  {
   "cell_type": "code",
   "execution_count": 3,
   "id": "394c5f2d-562f-400a-8ba8-cee454242989",
   "metadata": {},
   "outputs": [],
   "source": [
    "## Numbers"
   ]
  },
  {
   "cell_type": "code",
   "execution_count": 4,
   "id": "68f87168-69f3-4cba-9a4c-4f5192ee066b",
   "metadata": {},
   "outputs": [
    {
     "data": {
      "text/plain": [
       "23"
      ]
     },
     "execution_count": 4,
     "metadata": {},
     "output_type": "execute_result"
    }
   ],
   "source": [
    "23"
   ]
  },
  {
   "cell_type": "code",
   "execution_count": 5,
   "id": "c5928789-ef0f-4c0c-80f3-3726ffc2e840",
   "metadata": {},
   "outputs": [
    {
     "data": {
      "text/plain": [
       "44"
      ]
     },
     "execution_count": 5,
     "metadata": {},
     "output_type": "execute_result"
    }
   ],
   "source": [
    "44"
   ]
  },
  {
   "cell_type": "code",
   "execution_count": 6,
   "id": "aa8bfcb7-e48d-40cd-bc76-b33e97e9ecaf",
   "metadata": {},
   "outputs": [
    {
     "data": {
      "text/plain": [
       "6"
      ]
     },
     "execution_count": 6,
     "metadata": {},
     "output_type": "execute_result"
    }
   ],
   "source": [
    "6"
   ]
  },
  {
   "cell_type": "code",
   "execution_count": 7,
   "id": "8bdfb651-9dac-49b1-b815-d60faed45700",
   "metadata": {},
   "outputs": [
    {
     "data": {
      "text/plain": [
       "4.5"
      ]
     },
     "execution_count": 7,
     "metadata": {},
     "output_type": "execute_result"
    }
   ],
   "source": [
    "4.5"
   ]
  },
  {
   "cell_type": "code",
   "execution_count": 8,
   "id": "2d7435b4-007c-4621-9d7c-4c89a7583660",
   "metadata": {},
   "outputs": [
    {
     "data": {
      "text/plain": [
       "5.789"
      ]
     },
     "execution_count": 8,
     "metadata": {},
     "output_type": "execute_result"
    }
   ],
   "source": [
    "5.789"
   ]
  },
  {
   "cell_type": "code",
   "execution_count": 9,
   "id": "a30d1f01-f264-491c-9d76-1e4e648fbe7b",
   "metadata": {},
   "outputs": [
    {
     "data": {
      "text/plain": [
       "18.0"
      ]
     },
     "execution_count": 9,
     "metadata": {},
     "output_type": "execute_result"
    }
   ],
   "source": [
    "12.5 + 5.5"
   ]
  },
  {
   "cell_type": "code",
   "execution_count": 10,
   "id": "cdf204e6-c1b6-430e-82ae-1190e4bb81aa",
   "metadata": {},
   "outputs": [
    {
     "data": {
      "text/plain": [
       "3.142857142857143"
      ]
     },
     "execution_count": 10,
     "metadata": {},
     "output_type": "execute_result"
    }
   ],
   "source": [
    "22/7"
   ]
  },
  {
   "cell_type": "code",
   "execution_count": 11,
   "id": "270a70e4-4c96-44ee-8765-3d1a7f4b68d4",
   "metadata": {},
   "outputs": [
    {
     "data": {
      "text/plain": [
       "84"
      ]
     },
     "execution_count": 11,
     "metadata": {},
     "output_type": "execute_result"
    }
   ],
   "source": [
    "12*7"
   ]
  },
  {
   "cell_type": "code",
   "execution_count": 12,
   "id": "7ece5f4f-07a8-4dd7-8cdc-9e5e11219bd3",
   "metadata": {},
   "outputs": [
    {
     "data": {
      "text/plain": [
       "3"
      ]
     },
     "execution_count": 12,
     "metadata": {},
     "output_type": "execute_result"
    }
   ],
   "source": [
    "22//7"
   ]
  },
  {
   "cell_type": "code",
   "execution_count": 13,
   "id": "b0b5a1cc-c4d5-489c-bd63-fb92f59c269e",
   "metadata": {},
   "outputs": [
    {
     "data": {
      "text/plain": [
       "1024"
      ]
     },
     "execution_count": 13,
     "metadata": {},
     "output_type": "execute_result"
    }
   ],
   "source": [
    "2**10"
   ]
  },
  {
   "cell_type": "code",
   "execution_count": 14,
   "id": "498509d0-96e1-4114-b1dd-c1d725db84c3",
   "metadata": {},
   "outputs": [
    {
     "data": {
      "text/plain": [
       "27"
      ]
     },
     "execution_count": 14,
     "metadata": {},
     "output_type": "execute_result"
    }
   ],
   "source": [
    "3**3"
   ]
  },
  {
   "cell_type": "markdown",
   "id": "3d981f96-950e-4dea-a203-5f1a79717b64",
   "metadata": {},
   "source": [
    "### Strings"
   ]
  },
  {
   "cell_type": "code",
   "execution_count": 15,
   "id": "658a51ba-5057-4c6e-af18-94b05863625a",
   "metadata": {},
   "outputs": [
    {
     "data": {
      "text/plain": [
       "'Knowledge Shelf'"
      ]
     },
     "execution_count": 15,
     "metadata": {},
     "output_type": "execute_result"
    }
   ],
   "source": [
    "'Knowledge Shelf'"
   ]
  },
  {
   "cell_type": "code",
   "execution_count": 16,
   "id": "5508bf07-5d39-4cb7-addd-0ec074274d97",
   "metadata": {},
   "outputs": [
    {
     "data": {
      "text/plain": [
       "'Vishwajeet Singh Rana'"
      ]
     },
     "execution_count": 16,
     "metadata": {},
     "output_type": "execute_result"
    }
   ],
   "source": [
    "\"Vishwajeet Singh Rana\""
   ]
  },
  {
   "cell_type": "code",
   "execution_count": 19,
   "id": "9fb84571-0dbe-4477-a1c6-e99e54764230",
   "metadata": {},
   "outputs": [
    {
     "data": {
      "text/plain": [
       "\"What's the time?\""
      ]
     },
     "execution_count": 19,
     "metadata": {},
     "output_type": "execute_result"
    }
   ],
   "source": [
    "\"What's the time?\""
   ]
  },
  {
   "cell_type": "code",
   "execution_count": 20,
   "id": "3316022f-fb51-4fde-9d2d-b1d52503e988",
   "metadata": {},
   "outputs": [
    {
     "data": {
      "text/plain": [
       "'My name is \"Vishwajeet\"'"
      ]
     },
     "execution_count": 20,
     "metadata": {},
     "output_type": "execute_result"
    }
   ],
   "source": [
    "'My name is \"Vishwajeet\"'"
   ]
  },
  {
   "cell_type": "markdown",
   "id": "c8299a49-2320-4afb-b723-1b3c2cd5f66c",
   "metadata": {},
   "source": [
    "### Varibles"
   ]
  },
  {
   "cell_type": "code",
   "execution_count": 21,
   "id": "315ebd3b-e25b-476e-beb4-0db70a5c1d2a",
   "metadata": {},
   "outputs": [],
   "source": [
    "var = \"Knowledge Shelf\""
   ]
  },
  {
   "cell_type": "code",
   "execution_count": 22,
   "id": "9974fa9e-e6d8-4cad-bc4c-83d40bb9d05e",
   "metadata": {},
   "outputs": [
    {
     "data": {
      "text/plain": [
       "'Knowledge Shelf'"
      ]
     },
     "execution_count": 22,
     "metadata": {},
     "output_type": "execute_result"
    }
   ],
   "source": [
    "var"
   ]
  },
  {
   "cell_type": "code",
   "execution_count": 23,
   "id": "89fb1e14-cacd-4bcd-a952-2c570dfc5c1b",
   "metadata": {},
   "outputs": [],
   "source": [
    "var1 = \"Knowledge Shelf\""
   ]
  },
  {
   "cell_type": "code",
   "execution_count": 24,
   "id": "ffbc812a-f264-448c-9d6b-b3d4a4da7bd0",
   "metadata": {},
   "outputs": [
    {
     "data": {
      "text/plain": [
       "'Knowledge Shelf'"
      ]
     },
     "execution_count": 24,
     "metadata": {},
     "output_type": "execute_result"
    }
   ],
   "source": [
    "var1"
   ]
  },
  {
   "cell_type": "code",
   "execution_count": 25,
   "id": "d497062b-e765-42ba-86d7-162e270fe753",
   "metadata": {},
   "outputs": [
    {
     "ename": "SyntaxError",
     "evalue": "invalid syntax (Temp/ipykernel_22800/1228505413.py, line 1)",
     "output_type": "error",
     "traceback": [
      "\u001b[1;36m  Input \u001b[1;32mIn [25]\u001b[1;36m\u001b[0m\n\u001b[1;33m    1var = \"Knowledge Shelf\"\u001b[0m\n\u001b[1;37m     ^\u001b[0m\n\u001b[1;31mSyntaxError\u001b[0m\u001b[1;31m:\u001b[0m invalid syntax\n"
     ]
    }
   ],
   "source": [
    "1var = \"Knowledge Shelf\""
   ]
  },
  {
   "cell_type": "code",
   "execution_count": 26,
   "id": "73f74fb1-868e-4b55-9a25-115af22322c1",
   "metadata": {},
   "outputs": [],
   "source": [
    "var_1 = \"Knowledge Shelf\""
   ]
  },
  {
   "cell_type": "code",
   "execution_count": 27,
   "id": "bd978ca5-63b5-4f33-b5e2-7b22dcb227ef",
   "metadata": {},
   "outputs": [
    {
     "data": {
      "text/plain": [
       "'Knowledge Shelf'"
      ]
     },
     "execution_count": 27,
     "metadata": {},
     "output_type": "execute_result"
    }
   ],
   "source": [
    "var1"
   ]
  },
  {
   "cell_type": "code",
   "execution_count": 28,
   "id": "6b6125e6-28a6-455d-8310-a8d76ebfb525",
   "metadata": {},
   "outputs": [],
   "source": [
    "_var1 = \"Knowledge Shelf\""
   ]
  },
  {
   "cell_type": "code",
   "execution_count": 29,
   "id": "8a9ab4a8-4cf4-46e6-867d-c478c050f04d",
   "metadata": {},
   "outputs": [
    {
     "data": {
      "text/plain": [
       "'Knowledge Shelf'"
      ]
     },
     "execution_count": 29,
     "metadata": {},
     "output_type": "execute_result"
    }
   ],
   "source": [
    "_var1"
   ]
  },
  {
   "cell_type": "code",
   "execution_count": 30,
   "id": "c109940c-0cc4-4c95-b659-740b812fd573",
   "metadata": {},
   "outputs": [
    {
     "data": {
      "text/plain": [
       "45"
      ]
     },
     "execution_count": 30,
     "metadata": {},
     "output_type": "execute_result"
    }
   ],
   "source": [
    "var1 = 12\n",
    "var2 = 33\n",
    "var3 = var1 + var2\n",
    "var3"
   ]
  },
  {
   "cell_type": "markdown",
   "id": "6c259243-5684-4eae-9fe1-5f470dc1d75d",
   "metadata": {},
   "source": [
    "### print()"
   ]
  },
  {
   "cell_type": "code",
   "execution_count": 31,
   "id": "e6ba6540-8536-4d68-9486-3fa9963f9a8b",
   "metadata": {},
   "outputs": [],
   "source": [
    "num = 12\n",
    "name = \"Vishwajeet\""
   ]
  },
  {
   "cell_type": "code",
   "execution_count": 32,
   "id": "8a47b95e-7cf9-4064-9352-c6910d63e565",
   "metadata": {},
   "outputs": [
    {
     "name": "stdout",
     "output_type": "stream",
     "text": [
      "12\n"
     ]
    }
   ],
   "source": [
    "print(num)"
   ]
  },
  {
   "cell_type": "code",
   "execution_count": 33,
   "id": "a454548e-022a-41c9-8260-cb8173e2a6b1",
   "metadata": {},
   "outputs": [
    {
     "name": "stdout",
     "output_type": "stream",
     "text": [
      "Vishwajeet\n"
     ]
    }
   ],
   "source": [
    "print(name)"
   ]
  },
  {
   "cell_type": "code",
   "execution_count": 35,
   "id": "e7186d51-630b-4b79-8819-cedae42cabbe",
   "metadata": {},
   "outputs": [
    {
     "name": "stdout",
     "output_type": "stream",
     "text": [
      "My name is  Vishwajeet . My roll number is  12 .\n"
     ]
    }
   ],
   "source": [
    "print(\"My name is \",name,\". My roll number is \",num,\".\")"
   ]
  },
  {
   "cell_type": "code",
   "execution_count": 37,
   "id": "c9a9f3e0-1654-4024-a252-4cdfc89bc182",
   "metadata": {},
   "outputs": [
    {
     "name": "stdout",
     "output_type": "stream",
     "text": [
      "My name is Vishwajeet. My roll number is 12.\n"
     ]
    }
   ],
   "source": [
    "print(\"My name is \"+name+\". My roll number is \"+str(num)+\".\")"
   ]
  },
  {
   "cell_type": "code",
   "execution_count": 39,
   "id": "b40edd63-c317-476a-b898-584afdb93d81",
   "metadata": {},
   "outputs": [
    {
     "name": "stdout",
     "output_type": "stream",
     "text": [
      "My name is Vishwajeet. My roll number is 12.\n"
     ]
    }
   ],
   "source": [
    "print(\"My name is {}. My roll number is {}.\".format(name, num))"
   ]
  },
  {
   "cell_type": "code",
   "execution_count": 40,
   "id": "9c911682-7dc6-4b2c-b6d3-2fef4fe784c5",
   "metadata": {},
   "outputs": [
    {
     "name": "stdout",
     "output_type": "stream",
     "text": [
      "My name is Vishwajeet. My roll number is 12.\n"
     ]
    }
   ],
   "source": [
    "print(f\"My name is {name}. My roll number is {num}.\")"
   ]
  },
  {
   "cell_type": "markdown",
   "id": "dd420e84-600f-4382-a550-11b160aa516d",
   "metadata": {},
   "source": [
    "### List"
   ]
  },
  {
   "cell_type": "code",
   "execution_count": 41,
   "id": "74ca9196-a798-4ff0-b211-f561bce7a336",
   "metadata": {},
   "outputs": [
    {
     "data": {
      "text/plain": [
       "[10, 20, 30]"
      ]
     },
     "execution_count": 41,
     "metadata": {},
     "output_type": "execute_result"
    }
   ],
   "source": [
    "[10,20,30]"
   ]
  },
  {
   "cell_type": "code",
   "execution_count": 42,
   "id": "e272e96a-cad3-4f69-8bb6-3389a90b8743",
   "metadata": {},
   "outputs": [
    {
     "data": {
      "text/plain": [
       "['Vishwajeet', 2, 3]"
      ]
     },
     "execution_count": 42,
     "metadata": {},
     "output_type": "execute_result"
    }
   ],
   "source": [
    "[\"Vishwajeet\",2,3]"
   ]
  },
  {
   "cell_type": "code",
   "execution_count": 43,
   "id": "c9781a85-5d75-40cf-b384-0e5a6539953f",
   "metadata": {},
   "outputs": [
    {
     "data": {
      "text/plain": [
       "['a', 'b', 'c']"
      ]
     },
     "execution_count": 43,
     "metadata": {},
     "output_type": "execute_result"
    }
   ],
   "source": [
    "[\"a\",\"b\",\"c\"]"
   ]
  },
  {
   "cell_type": "code",
   "execution_count": 44,
   "id": "5ff4b693-d52b-43a8-9e70-ec17be25e1af",
   "metadata": {},
   "outputs": [],
   "source": [
    "l1 = [\"a\",\"b\",\"c\"]"
   ]
  },
  {
   "cell_type": "code",
   "execution_count": 45,
   "id": "19cc7efa-7098-4961-8452-7dfbc0cd4451",
   "metadata": {},
   "outputs": [],
   "source": [
    "l1.append('e')"
   ]
  },
  {
   "cell_type": "code",
   "execution_count": 46,
   "id": "aec84054-7b0b-4ba6-a99f-1fd5383a9f84",
   "metadata": {},
   "outputs": [
    {
     "data": {
      "text/plain": [
       "['a', 'b', 'c', 'e']"
      ]
     },
     "execution_count": 46,
     "metadata": {},
     "output_type": "execute_result"
    }
   ],
   "source": [
    "l1"
   ]
  },
  {
   "cell_type": "code",
   "execution_count": 47,
   "id": "1bceef73-9b03-4a12-93e9-81401cb35361",
   "metadata": {},
   "outputs": [
    {
     "data": {
      "text/plain": [
       "'a'"
      ]
     },
     "execution_count": 47,
     "metadata": {},
     "output_type": "execute_result"
    }
   ],
   "source": [
    "l1[0]"
   ]
  },
  {
   "cell_type": "code",
   "execution_count": 48,
   "id": "8a181b9f-4bc7-4b6d-b9fe-5561e5baff6d",
   "metadata": {},
   "outputs": [
    {
     "data": {
      "text/plain": [
       "'c'"
      ]
     },
     "execution_count": 48,
     "metadata": {},
     "output_type": "execute_result"
    }
   ],
   "source": [
    "l1[2]"
   ]
  },
  {
   "cell_type": "code",
   "execution_count": 49,
   "id": "489af885-068d-4d50-ad2f-851cf3d623f6",
   "metadata": {},
   "outputs": [
    {
     "data": {
      "text/plain": [
       "'e'"
      ]
     },
     "execution_count": 49,
     "metadata": {},
     "output_type": "execute_result"
    }
   ],
   "source": [
    "l1[-1]"
   ]
  },
  {
   "cell_type": "code",
   "execution_count": 50,
   "id": "a9c73d65-2274-4e43-a6dd-15ba8a22c136",
   "metadata": {},
   "outputs": [
    {
     "data": {
      "text/plain": [
       "'c'"
      ]
     },
     "execution_count": 50,
     "metadata": {},
     "output_type": "execute_result"
    }
   ],
   "source": [
    "l1[-2]"
   ]
  },
  {
   "cell_type": "code",
   "execution_count": 51,
   "id": "98cc8876-0067-4e65-96c0-0ee8888d341d",
   "metadata": {},
   "outputs": [
    {
     "data": {
      "text/plain": [
       "['a', 'b', 'c', 'e']"
      ]
     },
     "execution_count": 51,
     "metadata": {},
     "output_type": "execute_result"
    }
   ],
   "source": [
    "l1"
   ]
  },
  {
   "cell_type": "code",
   "execution_count": 52,
   "id": "bedbb8d9-0108-4447-a41d-91907572bbdf",
   "metadata": {},
   "outputs": [
    {
     "data": {
      "text/plain": [
       "['a', 'b', 'c', 'e']"
      ]
     },
     "execution_count": 52,
     "metadata": {},
     "output_type": "execute_result"
    }
   ],
   "source": [
    "l1[:]"
   ]
  },
  {
   "cell_type": "code",
   "execution_count": 53,
   "id": "76f06287-fe3b-41db-9019-87745395a100",
   "metadata": {},
   "outputs": [
    {
     "data": {
      "text/plain": [
       "['a', 'b']"
      ]
     },
     "execution_count": 53,
     "metadata": {},
     "output_type": "execute_result"
    }
   ],
   "source": [
    "l1[:2]"
   ]
  },
  {
   "cell_type": "code",
   "execution_count": 54,
   "id": "c4ac5317-e705-48fb-8c94-0e1b9a4c5945",
   "metadata": {},
   "outputs": [
    {
     "data": {
      "text/plain": [
       "['c', 'e']"
      ]
     },
     "execution_count": 54,
     "metadata": {},
     "output_type": "execute_result"
    }
   ],
   "source": [
    "l1[2:]"
   ]
  },
  {
   "cell_type": "code",
   "execution_count": 55,
   "id": "faf05076-6830-4b15-bcb4-08214e2943e3",
   "metadata": {},
   "outputs": [],
   "source": [
    "l2 = [10,20,30,[\"Vishwajeet\",\"Vishal\",['a','b','c']]]"
   ]
  },
  {
   "cell_type": "code",
   "execution_count": 56,
   "id": "fce0050c-1e34-48cc-954c-c9a11036fece",
   "metadata": {},
   "outputs": [
    {
     "data": {
      "text/plain": [
       "30"
      ]
     },
     "execution_count": 56,
     "metadata": {},
     "output_type": "execute_result"
    }
   ],
   "source": [
    "l2[2]"
   ]
  },
  {
   "cell_type": "code",
   "execution_count": 57,
   "id": "c0c8a749-f121-420a-878b-d15b752aa15c",
   "metadata": {},
   "outputs": [
    {
     "data": {
      "text/plain": [
       "['Vishwajeet', 'Vishal', ['a', 'b', 'c']]"
      ]
     },
     "execution_count": 57,
     "metadata": {},
     "output_type": "execute_result"
    }
   ],
   "source": [
    "l2[-1]"
   ]
  },
  {
   "cell_type": "markdown",
   "id": "60dba840-025c-4e5d-b52d-d517016f9bde",
   "metadata": {},
   "source": [
    "### Dict"
   ]
  },
  {
   "cell_type": "code",
   "execution_count": 58,
   "id": "0eb89e10-b3c2-426b-8410-a53cda2309b7",
   "metadata": {},
   "outputs": [
    {
     "data": {
      "text/plain": [
       "{'k1': 'v1', 'k2': 'v2', 'k3': 'v3'}"
      ]
     },
     "execution_count": 58,
     "metadata": {},
     "output_type": "execute_result"
    }
   ],
   "source": [
    "d1 = {\"k1\":\"v1\",\"k2\":\"v2\",\"k3\":\"v3\"}\n",
    "d1"
   ]
  },
  {
   "cell_type": "code",
   "execution_count": 59,
   "id": "069489b3-0124-4252-ad48-b8215a4b0478",
   "metadata": {},
   "outputs": [
    {
     "data": {
      "text/plain": [
       "'v1'"
      ]
     },
     "execution_count": 59,
     "metadata": {},
     "output_type": "execute_result"
    }
   ],
   "source": [
    "d1[\"k1\"]"
   ]
  },
  {
   "cell_type": "code",
   "execution_count": 60,
   "id": "cb70535e-aea6-4efc-9d23-3a045d59fe65",
   "metadata": {},
   "outputs": [
    {
     "data": {
      "text/plain": [
       "'v3'"
      ]
     },
     "execution_count": 60,
     "metadata": {},
     "output_type": "execute_result"
    }
   ],
   "source": [
    "d1[\"k3\"]"
   ]
  },
  {
   "cell_type": "markdown",
   "id": "5fe867cf-2e94-496b-af38-8228f917c2c9",
   "metadata": {},
   "source": [
    "### Boolean"
   ]
  },
  {
   "cell_type": "code",
   "execution_count": 61,
   "id": "5a891cfc-2ba2-43e3-aaad-e0efc343fcfd",
   "metadata": {},
   "outputs": [
    {
     "data": {
      "text/plain": [
       "True"
      ]
     },
     "execution_count": 61,
     "metadata": {},
     "output_type": "execute_result"
    }
   ],
   "source": [
    "True"
   ]
  },
  {
   "cell_type": "code",
   "execution_count": 62,
   "id": "b9d4d6b2-8210-49dc-8dc9-e28350386e08",
   "metadata": {},
   "outputs": [
    {
     "data": {
      "text/plain": [
       "False"
      ]
     },
     "execution_count": 62,
     "metadata": {},
     "output_type": "execute_result"
    }
   ],
   "source": [
    "False"
   ]
  },
  {
   "cell_type": "markdown",
   "id": "df82dd55-81fb-4e1c-bc3b-1f058310150d",
   "metadata": {},
   "source": [
    "### Tuples"
   ]
  },
  {
   "cell_type": "code",
   "execution_count": 63,
   "id": "6ac61cfe-8339-40de-a8d9-d9c9a274dff8",
   "metadata": {},
   "outputs": [],
   "source": [
    "t1 = (10,20,30)"
   ]
  },
  {
   "cell_type": "code",
   "execution_count": 64,
   "id": "34560aa8-03f8-497f-b45e-49280eec4d02",
   "metadata": {},
   "outputs": [
    {
     "data": {
      "text/plain": [
       "(10, 20, 30)"
      ]
     },
     "execution_count": 64,
     "metadata": {},
     "output_type": "execute_result"
    }
   ],
   "source": [
    "t1"
   ]
  },
  {
   "cell_type": "code",
   "execution_count": 65,
   "id": "88b9c385-d5b1-4043-ac98-bc7ad866096e",
   "metadata": {},
   "outputs": [
    {
     "data": {
      "text/plain": [
       "20"
      ]
     },
     "execution_count": 65,
     "metadata": {},
     "output_type": "execute_result"
    }
   ],
   "source": [
    "t1[1]"
   ]
  },
  {
   "cell_type": "code",
   "execution_count": 66,
   "id": "23ba16c9-fca2-44e2-a445-df83aa576828",
   "metadata": {},
   "outputs": [
    {
     "ename": "TypeError",
     "evalue": "'tuple' object does not support item assignment",
     "output_type": "error",
     "traceback": [
      "\u001b[1;31m---------------------------------------------------------------------------\u001b[0m",
      "\u001b[1;31mTypeError\u001b[0m                                 Traceback (most recent call last)",
      "Input \u001b[1;32mIn [66]\u001b[0m, in \u001b[0;36m<module>\u001b[1;34m\u001b[0m\n\u001b[1;32m----> 1\u001b[0m t1[\u001b[38;5;241m1\u001b[39m] \u001b[38;5;241m=\u001b[39m \u001b[38;5;241m40\u001b[39m\n",
      "\u001b[1;31mTypeError\u001b[0m: 'tuple' object does not support item assignment"
     ]
    }
   ],
   "source": [
    "t1[1] = 40"
   ]
  },
  {
   "cell_type": "markdown",
   "id": "af25f84a-b59b-4997-81c8-debfa4562b06",
   "metadata": {},
   "source": [
    "### Sets"
   ]
  },
  {
   "cell_type": "code",
   "execution_count": 67,
   "id": "8613f135-9e02-4073-8ec2-0abc076bf497",
   "metadata": {},
   "outputs": [],
   "source": [
    "s1 = {1,2,3,4}"
   ]
  },
  {
   "cell_type": "code",
   "execution_count": 68,
   "id": "6287ef0d-0106-4f6d-be28-aaf49e48b44f",
   "metadata": {},
   "outputs": [
    {
     "data": {
      "text/plain": [
       "{1, 2, 3, 4}"
      ]
     },
     "execution_count": 68,
     "metadata": {},
     "output_type": "execute_result"
    }
   ],
   "source": [
    "s1"
   ]
  },
  {
   "cell_type": "code",
   "execution_count": 69,
   "id": "8fbedd0b-3c19-4ae9-8629-b8d8b51f0d9d",
   "metadata": {},
   "outputs": [],
   "source": [
    "s1 = {1,1,1,2,2,2,3,3,3,4,4,4}"
   ]
  },
  {
   "cell_type": "code",
   "execution_count": 70,
   "id": "ac886855-6bca-4414-9b02-5d77506fe440",
   "metadata": {},
   "outputs": [
    {
     "data": {
      "text/plain": [
       "{1, 2, 3, 4}"
      ]
     },
     "execution_count": 70,
     "metadata": {},
     "output_type": "execute_result"
    }
   ],
   "source": [
    "s1"
   ]
  },
  {
   "cell_type": "markdown",
   "id": "69f83239-3b19-46ef-bdec-d0546dfc70d8",
   "metadata": {
    "tags": []
   },
   "source": [
    "## Python Refresher Part-2\n",
    "- Comparision & Logical Operators\n",
    "- If, Else, Elif\n",
    "- for & While Loop\n",
    "- range()"
   ]
  },
  {
   "cell_type": "markdown",
   "id": "6e0c9e20-d22c-4956-bde8-d8ef09492f50",
   "metadata": {},
   "source": [
    "### Comparision & Logical Operators"
   ]
  },
  {
   "cell_type": "code",
   "execution_count": 1,
   "id": "6e027c41-e57b-4324-99fe-82324de48faa",
   "metadata": {},
   "outputs": [
    {
     "data": {
      "text/plain": [
       "False"
      ]
     },
     "execution_count": 1,
     "metadata": {},
     "output_type": "execute_result"
    }
   ],
   "source": [
    "10 > 20"
   ]
  },
  {
   "cell_type": "code",
   "execution_count": 2,
   "id": "603afdd8-3128-482e-a1b3-abd2d4910e78",
   "metadata": {},
   "outputs": [
    {
     "data": {
      "text/plain": [
       "True"
      ]
     },
     "execution_count": 2,
     "metadata": {},
     "output_type": "execute_result"
    }
   ],
   "source": [
    "10 < 20"
   ]
  },
  {
   "cell_type": "code",
   "execution_count": 3,
   "id": "43f74ea0-dbf3-4889-b6c9-94fb57bede27",
   "metadata": {},
   "outputs": [
    {
     "data": {
      "text/plain": [
       "True"
      ]
     },
     "execution_count": 3,
     "metadata": {},
     "output_type": "execute_result"
    }
   ],
   "source": [
    "10 <= 20"
   ]
  },
  {
   "cell_type": "code",
   "execution_count": 4,
   "id": "5d61151b-ea5e-4a95-81d4-8e71b3c67212",
   "metadata": {},
   "outputs": [
    {
     "data": {
      "text/plain": [
       "True"
      ]
     },
     "execution_count": 4,
     "metadata": {},
     "output_type": "execute_result"
    }
   ],
   "source": [
    "20 >= 10"
   ]
  },
  {
   "cell_type": "code",
   "execution_count": 5,
   "id": "75cf47b3-5e38-41e8-b7f1-64edbfa6871d",
   "metadata": {},
   "outputs": [
    {
     "data": {
      "text/plain": [
       "True"
      ]
     },
     "execution_count": 5,
     "metadata": {},
     "output_type": "execute_result"
    }
   ],
   "source": [
    "1 >= 1"
   ]
  },
  {
   "cell_type": "code",
   "execution_count": 6,
   "id": "54343811-5fd6-4bd2-afc2-56c733fa49c2",
   "metadata": {},
   "outputs": [
    {
     "data": {
      "text/plain": [
       "True"
      ]
     },
     "execution_count": 6,
     "metadata": {},
     "output_type": "execute_result"
    }
   ],
   "source": [
    "10 == 10"
   ]
  },
  {
   "cell_type": "code",
   "execution_count": 7,
   "id": "826be725-a403-4682-9ed3-3558c2a25e3d",
   "metadata": {},
   "outputs": [
    {
     "data": {
      "text/plain": [
       "False"
      ]
     },
     "execution_count": 7,
     "metadata": {},
     "output_type": "execute_result"
    }
   ],
   "source": [
    "10 == 20"
   ]
  },
  {
   "cell_type": "code",
   "execution_count": 8,
   "id": "80bfb748-81ed-4127-b286-d15373978be0",
   "metadata": {},
   "outputs": [
    {
     "data": {
      "text/plain": [
       "False"
      ]
     },
     "execution_count": 8,
     "metadata": {},
     "output_type": "execute_result"
    }
   ],
   "source": [
    "\"Vishwajeet\" == \"Rana\""
   ]
  },
  {
   "cell_type": "code",
   "execution_count": 9,
   "id": "4dd9deae-aa8c-4857-a37b-d9c14af94c3e",
   "metadata": {},
   "outputs": [
    {
     "data": {
      "text/plain": [
       "True"
      ]
     },
     "execution_count": 9,
     "metadata": {},
     "output_type": "execute_result"
    }
   ],
   "source": [
    "\"Vishwajeet\" == \"Vishwajeet\""
   ]
  },
  {
   "cell_type": "code",
   "execution_count": 10,
   "id": "eaa935d3-f98b-4aae-a5d8-4cef6398a5f1",
   "metadata": {},
   "outputs": [
    {
     "data": {
      "text/plain": [
       "False"
      ]
     },
     "execution_count": 10,
     "metadata": {},
     "output_type": "execute_result"
    }
   ],
   "source": [
    "(10 > 20) and (20 < 30)"
   ]
  },
  {
   "cell_type": "code",
   "execution_count": 11,
   "id": "52112fcc-ce43-4f10-9f7c-7b3adcfd1b2e",
   "metadata": {},
   "outputs": [
    {
     "data": {
      "text/plain": [
       "True"
      ]
     },
     "execution_count": 11,
     "metadata": {},
     "output_type": "execute_result"
    }
   ],
   "source": [
    "(10 < 20) and (20 < 30)"
   ]
  },
  {
   "cell_type": "code",
   "execution_count": 12,
   "id": "6ad54769-a43b-4469-8e17-3a2d66e7dbd1",
   "metadata": {},
   "outputs": [
    {
     "data": {
      "text/plain": [
       "True"
      ]
     },
     "execution_count": 12,
     "metadata": {},
     "output_type": "execute_result"
    }
   ],
   "source": [
    "(10 > 20) or (20 < 30)"
   ]
  },
  {
   "cell_type": "code",
   "execution_count": 16,
   "id": "692b56e0-2659-4752-9941-240ad9ede0d4",
   "metadata": {},
   "outputs": [
    {
     "data": {
      "text/plain": [
       "False"
      ]
     },
     "execution_count": 16,
     "metadata": {},
     "output_type": "execute_result"
    }
   ],
   "source": [
    "(10 == 10) and (20 == 30) and (40 == 40)"
   ]
  },
  {
   "cell_type": "markdown",
   "id": "25de1535-0efc-4527-b1b7-7e5735ed6edc",
   "metadata": {},
   "source": [
    "### If, Else, Elif"
   ]
  },
  {
   "cell_type": "code",
   "execution_count": 21,
   "id": "3b5fe21d-abb6-4b1e-8b13-964486a26f52",
   "metadata": {},
   "outputs": [
    {
     "name": "stdout",
     "output_type": "stream",
     "text": [
      "Noop!!\n"
     ]
    }
   ],
   "source": [
    "if 10 > 20:\n",
    "    print(\"Yes!!\")\n",
    "else:\n",
    "    print(\"Noop!!\")"
   ]
  },
  {
   "cell_type": "code",
   "execution_count": 23,
   "id": "19fcdb3a-df37-4f7e-a682-a4e95300fc9c",
   "metadata": {},
   "outputs": [
    {
     "name": "stdin",
     "output_type": "stream",
     "text": [
      "Enter the name: Vishal\n"
     ]
    },
    {
     "name": "stdout",
     "output_type": "stream",
     "text": [
      "Hi!, Vishal\n"
     ]
    }
   ],
   "source": [
    "name = input(\"Enter the name:\")\n",
    "print(\"Hi!, \"+name)"
   ]
  },
  {
   "cell_type": "code",
   "execution_count": 28,
   "id": "26a27a45-9a4a-4112-be70-244e70c150ff",
   "metadata": {},
   "outputs": [
    {
     "name": "stdin",
     "output_type": "stream",
     "text": [
      "Enter the number: 99\n"
     ]
    },
    {
     "name": "stdout",
     "output_type": "stream",
     "text": [
      "You have passed with 1st Division.\n"
     ]
    }
   ],
   "source": [
    "num1 = int(input(\"Enter the number:\"))\n",
    "\n",
    "if num1 > 30 and (num1 < 40):\n",
    "    print(\"You have passed with 3rd Division.\")\n",
    "elif (num1 > 40) and (num1 < 60):\n",
    "    print(\"You have passed with 2nd Division.\")\n",
    "elif (num1 > 60):\n",
    "    print(\"You have passed with 1st Division.\")\n",
    "else:\n",
    "    print(\"You are failed\")"
   ]
  },
  {
   "cell_type": "markdown",
   "id": "bd4e81b5-2070-4baa-a83d-65975f1019d4",
   "metadata": {},
   "source": [
    "### for & While Loop"
   ]
  },
  {
   "cell_type": "code",
   "execution_count": 29,
   "id": "72ae85e1-d540-425b-aff9-75dc4befeb64",
   "metadata": {},
   "outputs": [],
   "source": [
    "l1 = [10,20,30,40,50]"
   ]
  },
  {
   "cell_type": "code",
   "execution_count": 35,
   "id": "c8a7ab97-348d-4314-a166-596fe8981538",
   "metadata": {},
   "outputs": [
    {
     "name": "stdout",
     "output_type": "stream",
     "text": [
      "100\n",
      "400\n",
      "900\n",
      "1600\n",
      "2500\n"
     ]
    }
   ],
   "source": [
    "for i in l1:\n",
    "    print(i**2)"
   ]
  },
  {
   "cell_type": "code",
   "execution_count": 36,
   "id": "19b45a7c-099e-4539-8543-676b848ccffa",
   "metadata": {},
   "outputs": [
    {
     "name": "stdout",
     "output_type": "stream",
     "text": [
      "Value of i: 0\n",
      "Value of i: 1\n",
      "Value of i: 2\n",
      "Value of i: 3\n",
      "Value of i: 4\n",
      "Value of i: 5\n",
      "Value of i: 6\n",
      "Value of i: 7\n",
      "Value of i: 8\n",
      "Value of i: 9\n"
     ]
    }
   ],
   "source": [
    "for i in range(10):\n",
    "    print(\"Value of i: \"+str(i))"
   ]
  },
  {
   "cell_type": "code",
   "execution_count": 38,
   "id": "44a68319-ccb6-4739-bfc2-38b2a5a4e84a",
   "metadata": {},
   "outputs": [
    {
     "name": "stdout",
     "output_type": "stream",
     "text": [
      "Value of i is 0\n",
      "Value of i is 1\n",
      "Value of i is 2\n",
      "Value of i is 3\n",
      "Value of i is 4\n",
      "Value of i is 5\n",
      "Value of i is 6\n",
      "Value of i is 7\n",
      "Value of i is 8\n",
      "Value of i is 9\n",
      "Value of i is 10\n"
     ]
    }
   ],
   "source": [
    "i = 0\n",
    "\n",
    "while(i <= 10):\n",
    "    print(f\"Value of i is {i}\")\n",
    "    i = i + 1"
   ]
  },
  {
   "cell_type": "markdown",
   "id": "bd711de5-7023-4869-8ce1-f9e8d3ae9141",
   "metadata": {},
   "source": [
    "### range()"
   ]
  },
  {
   "cell_type": "code",
   "execution_count": 41,
   "id": "b20b92a3-22d0-42f4-be45-180659656f8e",
   "metadata": {},
   "outputs": [
    {
     "data": {
      "text/plain": [
       "[0, 2, 4, 6, 8, 10, 12, 14, 16, 18]"
      ]
     },
     "execution_count": 41,
     "metadata": {},
     "output_type": "execute_result"
    }
   ],
   "source": [
    "list(range(0,20,2))"
   ]
  },
  {
   "cell_type": "markdown",
   "id": "62bfaaab-5037-4041-a6bb-91e43a7ac1d7",
   "metadata": {},
   "source": [
    "## Python Refresher Part-3\n",
    "- List Comprehension\n",
    "- Function\n",
    "- Lambda Expression\n",
    "- Maps & Filters\n",
    "- Methods"
   ]
  },
  {
   "cell_type": "code",
   "execution_count": 1,
   "id": "3e9cdb33-422f-4f07-a75b-5373d96c8f74",
   "metadata": {},
   "outputs": [],
   "source": [
    "x = [1,2,3,4,5]"
   ]
  },
  {
   "cell_type": "code",
   "execution_count": 2,
   "id": "802b3f89-30e6-496c-9ce2-7dd4b62d5788",
   "metadata": {},
   "outputs": [
    {
     "name": "stdout",
     "output_type": "stream",
     "text": [
      "[1, 4, 9, 16, 25]\n"
     ]
    }
   ],
   "source": [
    "out = []\n",
    "\n",
    "for i in x:\n",
    "    out.append(i**2)\n",
    "print(out)"
   ]
  },
  {
   "cell_type": "code",
   "execution_count": 4,
   "id": "b89c877f-468a-4a27-887a-d833961e6527",
   "metadata": {},
   "outputs": [],
   "source": [
    "out1 = [i**2 for i in x]"
   ]
  },
  {
   "cell_type": "code",
   "execution_count": 5,
   "id": "5ad0d301-5849-4ed9-8101-fa36ebd1fce5",
   "metadata": {},
   "outputs": [
    {
     "data": {
      "text/plain": [
       "[1, 4, 9, 16, 25]"
      ]
     },
     "execution_count": 5,
     "metadata": {},
     "output_type": "execute_result"
    }
   ],
   "source": [
    "out1"
   ]
  },
  {
   "cell_type": "markdown",
   "id": "3cdf92ec-a1a6-479d-b0eb-0a94a60b7e81",
   "metadata": {},
   "source": [
    "### Functions"
   ]
  },
  {
   "cell_type": "code",
   "execution_count": 6,
   "id": "add524b8-9d25-4030-8092-5a6d3637c0bd",
   "metadata": {},
   "outputs": [
    {
     "data": {
      "text/plain": [
       "10"
      ]
     },
     "execution_count": 6,
     "metadata": {},
     "output_type": "execute_result"
    }
   ],
   "source": [
    "len('Vishwajeet')"
   ]
  },
  {
   "cell_type": "code",
   "execution_count": 7,
   "id": "a758baa3-7b1d-44fa-bcf0-561c89cf712b",
   "metadata": {},
   "outputs": [],
   "source": [
    "def simple_func():\n",
    "    print(\"Hi, my name is Function\")"
   ]
  },
  {
   "cell_type": "code",
   "execution_count": 8,
   "id": "3deaf51e-151f-489b-bd04-78ed11277f3d",
   "metadata": {},
   "outputs": [
    {
     "name": "stdout",
     "output_type": "stream",
     "text": [
      "Hi, my name is Function\n"
     ]
    }
   ],
   "source": [
    "simple_func()"
   ]
  },
  {
   "cell_type": "code",
   "execution_count": 9,
   "id": "715e8b86-a2ab-4bdb-91bf-e996eceecc5f",
   "metadata": {},
   "outputs": [],
   "source": [
    "def square(x):\n",
    "    return x**2"
   ]
  },
  {
   "cell_type": "code",
   "execution_count": 10,
   "id": "20e9a0f7-7828-4222-987b-972e36a852e0",
   "metadata": {},
   "outputs": [],
   "source": [
    "output = square(10)"
   ]
  },
  {
   "cell_type": "code",
   "execution_count": 12,
   "id": "3836a9de-bf8c-47da-934e-c993baa0d89f",
   "metadata": {},
   "outputs": [
    {
     "name": "stdout",
     "output_type": "stream",
     "text": [
      "100\n"
     ]
    }
   ],
   "source": [
    "print(output)"
   ]
  },
  {
   "cell_type": "markdown",
   "id": "7ac4a9ad-0bef-40a2-a486-9ba78539385c",
   "metadata": {},
   "source": [
    "### Lambda"
   ]
  },
  {
   "cell_type": "code",
   "execution_count": 17,
   "id": "a6be8170-9f76-4f16-ba2c-64f9d8abb55d",
   "metadata": {},
   "outputs": [],
   "source": [
    "x = lambda var: var**2"
   ]
  },
  {
   "cell_type": "code",
   "execution_count": 18,
   "id": "4de73a4d-0a5a-4c94-a984-85e48654cb9b",
   "metadata": {},
   "outputs": [
    {
     "data": {
      "text/plain": [
       "100"
      ]
     },
     "execution_count": 18,
     "metadata": {},
     "output_type": "execute_result"
    }
   ],
   "source": [
    "x(10)"
   ]
  },
  {
   "cell_type": "markdown",
   "id": "56232f7d-c1e6-4609-affa-cface6b9bbf5",
   "metadata": {},
   "source": [
    "### map & Filter"
   ]
  },
  {
   "cell_type": "code",
   "execution_count": 19,
   "id": "e820234e-5571-4dd0-9a0c-d870efcd9eec",
   "metadata": {},
   "outputs": [],
   "source": [
    "l1 = [1,2,3,4,5]"
   ]
  },
  {
   "cell_type": "code",
   "execution_count": 20,
   "id": "b1f51c1b-ea36-4924-9c00-e7b2c69fdeeb",
   "metadata": {},
   "outputs": [
    {
     "data": {
      "text/plain": [
       "<map at 0x167bcb471f0>"
      ]
     },
     "execution_count": 20,
     "metadata": {},
     "output_type": "execute_result"
    }
   ],
   "source": [
    "map(square, l1)"
   ]
  },
  {
   "cell_type": "code",
   "execution_count": 21,
   "id": "dc99bd25-6289-4ad7-83ae-6fac98ef0bfb",
   "metadata": {},
   "outputs": [
    {
     "data": {
      "text/plain": [
       "[1, 4, 9, 16, 25]"
      ]
     },
     "execution_count": 21,
     "metadata": {},
     "output_type": "execute_result"
    }
   ],
   "source": [
    "list(map(square, l1))"
   ]
  },
  {
   "cell_type": "code",
   "execution_count": 22,
   "id": "ff47dda6-d907-4d34-b9a4-d98af750cdf4",
   "metadata": {},
   "outputs": [
    {
     "data": {
      "text/plain": [
       "[1, 4, 9, 16, 25]"
      ]
     },
     "execution_count": 22,
     "metadata": {},
     "output_type": "execute_result"
    }
   ],
   "source": [
    "list(map(lambda var: var**2, l1))"
   ]
  },
  {
   "cell_type": "code",
   "execution_count": 24,
   "id": "7fac33a8-c89f-44dd-a297-8f4b944a881c",
   "metadata": {},
   "outputs": [
    {
     "data": {
      "text/plain": [
       "[2, 4]"
      ]
     },
     "execution_count": 24,
     "metadata": {},
     "output_type": "execute_result"
    }
   ],
   "source": [
    "list(filter(lambda item: item%2==0, l1))"
   ]
  },
  {
   "cell_type": "markdown",
   "id": "8e54be22-0e77-4e2d-a462-97f6c01ee541",
   "metadata": {},
   "source": [
    "### Methods"
   ]
  },
  {
   "cell_type": "code",
   "execution_count": 25,
   "id": "7e1ca1d2-3528-4aec-b81a-73f3d1ed3425",
   "metadata": {},
   "outputs": [],
   "source": [
    "st = \"Hello, My name is Vishwajeet\""
   ]
  },
  {
   "cell_type": "code",
   "execution_count": 26,
   "id": "165332d4-6147-4089-b8ac-5cc8e6d7efa9",
   "metadata": {},
   "outputs": [
    {
     "data": {
      "text/plain": [
       "'hello, my name is vishwajeet'"
      ]
     },
     "execution_count": 26,
     "metadata": {},
     "output_type": "execute_result"
    }
   ],
   "source": [
    "st.lower()"
   ]
  },
  {
   "cell_type": "code",
   "execution_count": 27,
   "id": "ff4f6ff4-8f4b-4791-9b0e-0f61ecd838ea",
   "metadata": {},
   "outputs": [
    {
     "data": {
      "text/plain": [
       "'HELLO, MY NAME IS VISHWAJEET'"
      ]
     },
     "execution_count": 27,
     "metadata": {},
     "output_type": "execute_result"
    }
   ],
   "source": [
    "st.upper()"
   ]
  },
  {
   "cell_type": "code",
   "execution_count": 28,
   "id": "e90b1067-8f4d-47e0-8c94-6ef2ef6eba44",
   "metadata": {},
   "outputs": [
    {
     "data": {
      "text/plain": [
       "['Hello,', 'My', 'name', 'is', 'Vishwajeet']"
      ]
     },
     "execution_count": 28,
     "metadata": {},
     "output_type": "execute_result"
    }
   ],
   "source": [
    "st.split()"
   ]
  },
  {
   "cell_type": "code",
   "execution_count": 29,
   "id": "c9cdd376-c2a6-4ea4-997a-7e7fca2dd3a5",
   "metadata": {},
   "outputs": [
    {
     "data": {
      "text/plain": [
       "['Hello, My name is ', '']"
      ]
     },
     "execution_count": 29,
     "metadata": {},
     "output_type": "execute_result"
    }
   ],
   "source": [
    "st.split(\"Vishwajeet\")"
   ]
  },
  {
   "cell_type": "code",
   "execution_count": 30,
   "id": "a088d0be-c88f-4b2d-a270-a58c8ae263dc",
   "metadata": {},
   "outputs": [],
   "source": [
    "l1 = [1,2,3,4,5]"
   ]
  },
  {
   "cell_type": "code",
   "execution_count": 31,
   "id": "0bf97dcd-ce58-423a-9a21-611dc21e82f0",
   "metadata": {},
   "outputs": [
    {
     "data": {
      "text/plain": [
       "[1, 2, 3, 4, 5]"
      ]
     },
     "execution_count": 31,
     "metadata": {},
     "output_type": "execute_result"
    }
   ],
   "source": [
    "l1"
   ]
  },
  {
   "cell_type": "code",
   "execution_count": 32,
   "id": "a7204392-0b67-4172-9f91-470c8a170aa3",
   "metadata": {},
   "outputs": [],
   "source": [
    "l1.append(6)"
   ]
  },
  {
   "cell_type": "code",
   "execution_count": 33,
   "id": "1e0b99cf-5fdd-4b76-8bf8-3fd03d5ea94c",
   "metadata": {},
   "outputs": [
    {
     "data": {
      "text/plain": [
       "[1, 2, 3, 4, 5, 6]"
      ]
     },
     "execution_count": 33,
     "metadata": {},
     "output_type": "execute_result"
    }
   ],
   "source": [
    "l1"
   ]
  },
  {
   "cell_type": "code",
   "execution_count": 34,
   "id": "d7b3560c-b286-4ec8-ae7c-0198bc61073e",
   "metadata": {},
   "outputs": [
    {
     "data": {
      "text/plain": [
       "6"
      ]
     },
     "execution_count": 34,
     "metadata": {},
     "output_type": "execute_result"
    }
   ],
   "source": [
    "l1.pop()"
   ]
  },
  {
   "cell_type": "code",
   "execution_count": 35,
   "id": "aee182ed-ee44-422c-bb8e-a295d4cca283",
   "metadata": {},
   "outputs": [
    {
     "data": {
      "text/plain": [
       "[1, 2, 3, 4, 5]"
      ]
     },
     "execution_count": 35,
     "metadata": {},
     "output_type": "execute_result"
    }
   ],
   "source": [
    "l1"
   ]
  },
  {
   "cell_type": "code",
   "execution_count": null,
   "id": "163069a0-5dd3-4c87-9e1c-255dacc1d68f",
   "metadata": {},
   "outputs": [],
   "source": []
  }
 ],
 "metadata": {
  "kernelspec": {
   "display_name": "Python 3 (ipykernel)",
   "language": "python",
   "name": "python3"
  },
  "language_info": {
   "codemirror_mode": {
    "name": "ipython",
    "version": 3
   },
   "file_extension": ".py",
   "mimetype": "text/x-python",
   "name": "python",
   "nbconvert_exporter": "python",
   "pygments_lexer": "ipython3",
   "version": "3.9.9"
  }
 },
 "nbformat": 4,
 "nbformat_minor": 5
}
