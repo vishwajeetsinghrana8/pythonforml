{
 "cells": [
  {
   "cell_type": "markdown",
   "id": "1f5c5017-3c1f-4142-b047-3c2e641f639b",
   "metadata": {},
   "source": [
    "# Text Methods in Pandas"
   ]
  },
  {
   "cell_type": "markdown",
   "id": "1dd667e5-22cd-4e81-9a46-8190cecbf5d9",
   "metadata": {},
   "source": [
    "\n",
    "    Ques: \n",
    "            r = lambda q: q * 2\n",
    "            s = lambda q: q * 3\n",
    "            x = 2\n",
    "            x = r(x)\n",
    "            x = s(x)\n",
    "            x = r(x)\n",
    "            print (x)\n",
    "        \n",
    "        a. 12\n",
    "        b. 15\n",
    "        c. 24\n",
    "        d. 30"
   ]
  },
  {
   "cell_type": "code",
   "execution_count": 1,
   "id": "12e67eb2-f6f6-4bda-a502-e82ea256f9d6",
   "metadata": {},
   "outputs": [],
   "source": [
    "mystr = \"hello\""
   ]
  },
  {
   "cell_type": "code",
   "execution_count": 4,
   "id": "d9e1e54a-862c-4d0f-a0bf-462940accec2",
   "metadata": {},
   "outputs": [
    {
     "name": "stdout",
     "output_type": "stream",
     "text": [
      "Hello\n",
      "HELLO\n"
     ]
    }
   ],
   "source": [
    "print(mystr.capitalize())\n",
    "print(mystr.upper())"
   ]
  },
  {
   "cell_type": "code",
   "execution_count": 5,
   "id": "3e117c02-57c2-4433-9a5b-ac0032eb1e4f",
   "metadata": {},
   "outputs": [
    {
     "data": {
      "text/plain": [
       "'10'"
      ]
     },
     "execution_count": 5,
     "metadata": {},
     "output_type": "execute_result"
    }
   ],
   "source": [
    "'10'"
   ]
  },
  {
   "cell_type": "code",
   "execution_count": 6,
   "id": "f9b5e7d0-a8a5-49e5-a56c-7bb74418af51",
   "metadata": {},
   "outputs": [
    {
     "data": {
      "text/plain": [
       "False"
      ]
     },
     "execution_count": 6,
     "metadata": {},
     "output_type": "execute_result"
    }
   ],
   "source": [
    "mystr.isdigit()"
   ]
  },
  {
   "cell_type": "code",
   "execution_count": 7,
   "id": "6e3f9264-39af-4402-8fcf-0bdd70b99bc8",
   "metadata": {},
   "outputs": [],
   "source": [
    "email = \"hello@email.com\""
   ]
  },
  {
   "cell_type": "code",
   "execution_count": 9,
   "id": "a2b43566-89a5-4a64-8374-543efbfcda71",
   "metadata": {},
   "outputs": [
    {
     "data": {
      "text/plain": [
       "['hello', 'email.com']"
      ]
     },
     "execution_count": 9,
     "metadata": {},
     "output_type": "execute_result"
    }
   ],
   "source": [
    "email.split('@')"
   ]
  },
  {
   "cell_type": "markdown",
   "id": "4cad87cc-c8b1-40a6-b09e-bbd868fd9308",
   "metadata": {},
   "source": [
    "## Pandas & Text Data"
   ]
  },
  {
   "cell_type": "code",
   "execution_count": 10,
   "id": "303a6753-02a8-49db-a4f6-55e606d383f6",
   "metadata": {},
   "outputs": [],
   "source": [
    "import pandas as pd\n",
    "import numpy as np"
   ]
  },
  {
   "cell_type": "code",
   "execution_count": 11,
   "id": "c065c62d-705e-4ce5-bdfe-cc8ce360af9b",
   "metadata": {},
   "outputs": [],
   "source": [
    "names = pd.Series(['andrew','bobo','claire','david','4'])"
   ]
  },
  {
   "cell_type": "code",
   "execution_count": 12,
   "id": "9ec7a94c-e524-46f6-980f-8e88a7b080d5",
   "metadata": {},
   "outputs": [
    {
     "data": {
      "text/plain": [
       "0    andrew\n",
       "1      bobo\n",
       "2    claire\n",
       "3     david\n",
       "4         4\n",
       "dtype: object"
      ]
     },
     "execution_count": 12,
     "metadata": {},
     "output_type": "execute_result"
    }
   ],
   "source": [
    "names"
   ]
  },
  {
   "cell_type": "code",
   "execution_count": 13,
   "id": "346d7fca-796d-40db-9e6f-36386c5df95b",
   "metadata": {},
   "outputs": [
    {
     "data": {
      "text/plain": [
       "0    Andrew\n",
       "1      Bobo\n",
       "2    Claire\n",
       "3     David\n",
       "4         4\n",
       "dtype: object"
      ]
     },
     "execution_count": 13,
     "metadata": {},
     "output_type": "execute_result"
    }
   ],
   "source": [
    "names.str.capitalize()"
   ]
  },
  {
   "cell_type": "code",
   "execution_count": 14,
   "id": "de7c1c05-7bc9-4388-9b95-7b71779581cf",
   "metadata": {},
   "outputs": [
    {
     "data": {
      "text/plain": [
       "0    False\n",
       "1    False\n",
       "2    False\n",
       "3    False\n",
       "4     True\n",
       "dtype: bool"
      ]
     },
     "execution_count": 14,
     "metadata": {},
     "output_type": "execute_result"
    }
   ],
   "source": [
    "names.str.isdigit()"
   ]
  },
  {
   "cell_type": "code",
   "execution_count": 15,
   "id": "456ef8e3-5379-4f4f-aca6-26e22b3d266f",
   "metadata": {},
   "outputs": [],
   "source": [
    "tech_fin = ['GOOG,APPL,AMZN','JPM,BAC,GS']"
   ]
  },
  {
   "cell_type": "code",
   "execution_count": 16,
   "id": "e246b231-ed6d-4b28-bdb3-dbbdce87e4d6",
   "metadata": {},
   "outputs": [
    {
     "data": {
      "text/plain": [
       "2"
      ]
     },
     "execution_count": 16,
     "metadata": {},
     "output_type": "execute_result"
    }
   ],
   "source": [
    "len(tech_fin)"
   ]
  },
  {
   "cell_type": "code",
   "execution_count": 17,
   "id": "a6b34e57-34d7-4b04-9948-650775ca3998",
   "metadata": {},
   "outputs": [],
   "source": [
    "t1 = pd.Series(tech_fin)"
   ]
  },
  {
   "cell_type": "code",
   "execution_count": 18,
   "id": "f144609f-a179-40ac-8bfa-c717634e983b",
   "metadata": {},
   "outputs": [
    {
     "data": {
      "text/plain": [
       "0    GOOG,APPL,AMZN\n",
       "1        JPM,BAC,GS\n",
       "dtype: object"
      ]
     },
     "execution_count": 18,
     "metadata": {},
     "output_type": "execute_result"
    }
   ],
   "source": [
    "t1"
   ]
  },
  {
   "cell_type": "code",
   "execution_count": 21,
   "id": "3220670d-990e-48af-9d3b-b79205de9ed9",
   "metadata": {},
   "outputs": [
    {
     "data": {
      "text/plain": [
       "'GOOG'"
      ]
     },
     "execution_count": 21,
     "metadata": {},
     "output_type": "execute_result"
    }
   ],
   "source": [
    "t1.str.split(',')[0][0]"
   ]
  },
  {
   "cell_type": "code",
   "execution_count": 22,
   "id": "03da2bce-978e-4023-8681-966cb398a0f5",
   "metadata": {},
   "outputs": [
    {
     "data": {
      "text/plain": [
       "0    GOOG\n",
       "1     JPM\n",
       "dtype: object"
      ]
     },
     "execution_count": 22,
     "metadata": {},
     "output_type": "execute_result"
    }
   ],
   "source": [
    "t1.str.split(',').str[0]"
   ]
  },
  {
   "cell_type": "code",
   "execution_count": 23,
   "id": "b15492ce-3d6b-4a0e-8e67-36d4ce4438bb",
   "metadata": {},
   "outputs": [
    {
     "data": {
      "text/html": [
       "<div>\n",
       "<style scoped>\n",
       "    .dataframe tbody tr th:only-of-type {\n",
       "        vertical-align: middle;\n",
       "    }\n",
       "\n",
       "    .dataframe tbody tr th {\n",
       "        vertical-align: top;\n",
       "    }\n",
       "\n",
       "    .dataframe thead th {\n",
       "        text-align: right;\n",
       "    }\n",
       "</style>\n",
       "<table border=\"1\" class=\"dataframe\">\n",
       "  <thead>\n",
       "    <tr style=\"text-align: right;\">\n",
       "      <th></th>\n",
       "      <th>0</th>\n",
       "      <th>1</th>\n",
       "      <th>2</th>\n",
       "    </tr>\n",
       "  </thead>\n",
       "  <tbody>\n",
       "    <tr>\n",
       "      <th>0</th>\n",
       "      <td>GOOG</td>\n",
       "      <td>APPL</td>\n",
       "      <td>AMZN</td>\n",
       "    </tr>\n",
       "    <tr>\n",
       "      <th>1</th>\n",
       "      <td>JPM</td>\n",
       "      <td>BAC</td>\n",
       "      <td>GS</td>\n",
       "    </tr>\n",
       "  </tbody>\n",
       "</table>\n",
       "</div>"
      ],
      "text/plain": [
       "      0     1     2\n",
       "0  GOOG  APPL  AMZN\n",
       "1   JPM   BAC    GS"
      ]
     },
     "execution_count": 23,
     "metadata": {},
     "output_type": "execute_result"
    }
   ],
   "source": [
    "t1.str.split(',', expand=True)"
   ]
  },
  {
   "cell_type": "code",
   "execution_count": null,
   "id": "f20c9658-b626-483a-8c4b-e4cae0fa70b2",
   "metadata": {},
   "outputs": [],
   "source": []
  }
 ],
 "metadata": {
  "kernelspec": {
   "display_name": "Python 3 (ipykernel)",
   "language": "python",
   "name": "python3"
  },
  "language_info": {
   "codemirror_mode": {
    "name": "ipython",
    "version": 3
   },
   "file_extension": ".py",
   "mimetype": "text/x-python",
   "name": "python",
   "nbconvert_exporter": "python",
   "pygments_lexer": "ipython3",
   "version": "3.9.9"
  }
 },
 "nbformat": 4,
 "nbformat_minor": 5
}
